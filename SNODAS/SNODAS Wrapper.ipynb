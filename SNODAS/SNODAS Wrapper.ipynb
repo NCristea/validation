{
 "cells": [
  {
   "cell_type": "markdown",
   "metadata": {},
   "source": [
    "# SNODAS Wrapper"
   ]
  },
  {
   "cell_type": "code",
   "execution_count": 11,
   "metadata": {},
   "outputs": [],
   "source": [
    "%matplotlib inline\n",
    "import SNODAS\n",
    "import re\n",
    "import os\n",
    "from datetime import datetime, timedelta\n",
    "import xarray as xr"
   ]
  },
  {
   "cell_type": "code",
   "execution_count": 20,
   "metadata": {},
   "outputs": [
    {
     "name": "stdout",
     "output_type": "stream",
     "text": [
      "[datetime.datetime(2017, 12, 30, 0, 0), datetime.datetime(2017, 12, 31, 0, 0), datetime.datetime(2018, 1, 1, 0, 0)]\n",
      "<xarray.Dataset>\n",
      "Dimensions:  (lat: 4096, lon: 8192, time: 3)\n",
      "Coordinates:\n",
      "  * lat      (lat) float64 24.1 24.11 24.12 24.13 24.14 24.15 24.15 24.16 ...\n",
      "  * lon      (lon) float64 -130.5 -130.5 -130.5 -130.5 -130.5 -130.5 -130.5 ...\n",
      "  * time     (time) datetime64[ns] 2017-12-30 2017-12-31 2018-01-01\n",
      "Data variables:\n",
      "    Band1    (time, lat, lon) float32 dask.array<shape=(3, 4096, 8192), chunksize=(1, 4096, 8192)>\n",
      "    crs      (time) |S1 b'' b'' b''\n",
      "Attributes:\n",
      "    Conventions:  CF-1.5\n",
      "    GDAL:         GDAL 2.2.4, released 2018/03/19\n",
      "    history:      Tue Jun 12 15:01:30 2018: GDAL Create( tiff/SNODAS_20171230...\n"
     ]
    }
   ],
   "source": [
    "# Get list of valid data files\n",
    "#pattern = re.compile(\"^SNODAS_\\d{8}.tif{1,2}$\")\n",
    "pattern = re.compile(\"^SNODAS_\\d{8}.nc$\")\n",
    "files = sorted([os.path.join(\"tiff\",f) for f in os.listdir(\"tiff\") if pattern.match(f)])\n",
    "\n",
    "# Extract dates and data arrays from data files\n",
    "dates = [SNODAS.dateFromFile(f) for f in files]\n",
    "arrs = [SNODAS.dataArrayFromFile(f) for f in files]\n",
    "print(dates)\n",
    "\n",
    "time_series = xr.open_mfdataset(files, concat_dim='time')\n",
    "time_series.coords['time'] = dates\n",
    "print(time_series)"
   ]
  },
  {
   "cell_type": "code",
   "execution_count": null,
   "metadata": {},
   "outputs": [],
   "source": [
    "start_date = datetime(2017,12,30)\n",
    "for date in (start_date + timedelta(n) for n in range(365)):\n",
    "    ds = SNODAS.snodas_ds(date)\n",
    "    SNODAS.save_netcdf(ds, date.strftime('tiff/SNODAS_%Y%m%d.nc'))"
   ]
  },
  {
   "cell_type": "code",
   "execution_count": null,
   "metadata": {
    "collapsed": true
   },
   "outputs": [],
   "source": []
  }
 ],
 "metadata": {
  "kernelspec": {
   "display_name": "Python 3",
   "language": "python",
   "name": "python3"
  },
  "language_info": {
   "codemirror_mode": {
    "name": "ipython",
    "version": 3
   },
   "file_extension": ".py",
   "mimetype": "text/x-python",
   "name": "python",
   "nbconvert_exporter": "python",
   "pygments_lexer": "ipython3",
   "version": "3.6.3"
  }
 },
 "nbformat": 4,
 "nbformat_minor": 2
}
