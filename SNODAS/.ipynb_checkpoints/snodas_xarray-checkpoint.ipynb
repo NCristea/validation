{
 "cells": [
  {
   "cell_type": "code",
   "execution_count": 1,
   "metadata": {
    "collapsed": true
   },
   "outputs": [],
   "source": [
    "%matplotlib inline\n",
    "import re\n",
    "import os\n",
    "import xarray as xr\n",
    "\n",
    "from snodas_xarray import dateFromFile, dataArrayFromFile\n",
    "from datetime import datetime, timedelta"
   ]
  },
  {
   "cell_type": "code",
   "execution_count": 2,
   "metadata": {},
   "outputs": [],
   "source": [
    "# Get list of valid data files\n",
    "pattern = re.compile(\"^SNODAS_\\d{8}.tif$\")\n",
    "files = sorted([os.path.join(\"tiff\",f) for f in os.listdir(\"tiff\") if pattern.match(f)])\n",
    "\n",
    "# Extract dates and data arrays from data files\n",
    "dates = [dateFromFile(f) for f in files]\n",
    "arrs = [dataArrayFromFile(f) for f in files]"
   ]
  },
  {
   "cell_type": "markdown",
   "metadata": {},
   "source": [
    "Get range of dates as list"
   ]
  },
  {
   "cell_type": "code",
   "execution_count": 3,
   "metadata": {},
   "outputs": [
    {
     "name": "stdout",
     "output_type": "stream",
     "text": [
      "Done\n"
     ]
    }
   ],
   "source": [
    "# Concatenate data arrays and add time coordinates\n",
    "ds = xr.concat(arrs, 'time')\n",
    "ds.coords['time'] = dates\n",
    "\n",
    "# Reformat no-values\n",
    "ds = ds.where(ds != -9999)\n",
    "print(\"Done\")"
   ]
  },
  {
   "cell_type": "code",
   "execution_count": null,
   "metadata": {},
   "outputs": [],
   "source": [
    "ds.isel(time = 0, x=slice(10,1000), y=slice(10, 1000)).plot()"
   ]
  },
  {
   "cell_type": "code",
   "execution_count": null,
   "metadata": {},
   "outputs": [],
   "source": [
    "ds.sel(x=-121.6555676, y=44.0018751, method='nearest').plot()"
   ]
  },
  {
   "cell_type": "code",
   "execution_count": null,
   "metadata": {
    "collapsed": true
   },
   "outputs": [],
   "source": []
  }
 ],
 "metadata": {
  "kernelspec": {
   "display_name": "Python 3",
   "language": "python",
   "name": "python3"
  },
  "language_info": {
   "codemirror_mode": {
    "name": "ipython",
    "version": 3
   },
   "file_extension": ".py",
   "mimetype": "text/x-python",
   "name": "python",
   "nbconvert_exporter": "python",
   "pygments_lexer": "ipython3",
   "version": "3.6.3"
  }
 },
 "nbformat": 4,
 "nbformat_minor": 2
}
