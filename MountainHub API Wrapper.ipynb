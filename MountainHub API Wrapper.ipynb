{
 "cells": [
  {
   "cell_type": "markdown",
   "metadata": {},
   "source": [
    "# MountainHub API Wrapper"
   ]
  },
  {
   "cell_type": "code",
   "execution_count": 1,
   "metadata": {},
   "outputs": [],
   "source": [
    "%matplotlib inline\n",
    "\n",
    "from datetime import datetime\n",
    "import pandas as pd\n",
    "\n",
    "from validation import MountainHub, Elevation, creds"
   ]
  },
  {
   "cell_type": "markdown",
   "metadata": {},
   "source": [
    "## Basic Usage\n",
    "Basic usage of the API wrapper is demonstrated below. The following optional parameters may also be specified to fetch within a certain time range or area, and to limit the number of results. Data is returned as a pandas dataframe.\n",
    "\n",
    "- limit: int (default: 1000)\n",
    "- start: datetime (default: None),\n",
    "- end: datetime (default: None,\n",
    "- box: dict of coordinates (default: None)"
   ]
  },
  {
   "cell_type": "code",
   "execution_count": 8,
   "metadata": {},
   "outputs": [
    {
     "data": {
      "text/html": [
       "<div>\n",
       "<style scoped>\n",
       "    .dataframe tbody tr th:only-of-type {\n",
       "        vertical-align: middle;\n",
       "    }\n",
       "\n",
       "    .dataframe tbody tr th {\n",
       "        vertical-align: top;\n",
       "    }\n",
       "\n",
       "    .dataframe thead th {\n",
       "        text-align: right;\n",
       "    }\n",
       "</style>\n",
       "<table border=\"1\" class=\"dataframe\">\n",
       "  <thead>\n",
       "    <tr style=\"text-align: right;\">\n",
       "      <th></th>\n",
       "      <th>author_name</th>\n",
       "      <th>id</th>\n",
       "      <th>timestamp</th>\n",
       "      <th>date</th>\n",
       "      <th>lat</th>\n",
       "      <th>long</th>\n",
       "      <th>type</th>\n",
       "      <th>snow_depth</th>\n",
       "    </tr>\n",
       "  </thead>\n",
       "  <tbody>\n",
       "    <tr>\n",
       "      <th>0</th>\n",
       "      <td>Karsten von Hoesslin</td>\n",
       "      <td>5e3c8cda2646bf6f0a9887ab</td>\n",
       "      <td>1581026436629</td>\n",
       "      <td>2020-02-06 14:00:36.629</td>\n",
       "      <td>50.398795</td>\n",
       "      <td>-119.055334</td>\n",
       "      <td>snow_conditions</td>\n",
       "      <td>135.000000</td>\n",
       "    </tr>\n",
       "    <tr>\n",
       "      <th>1</th>\n",
       "      <td>Nikki Horrocks</td>\n",
       "      <td>5e3c834f92134473d7040b6b</td>\n",
       "      <td>1581023991366</td>\n",
       "      <td>2020-02-06 13:19:51.366</td>\n",
       "      <td>37.483015</td>\n",
       "      <td>-106.796646</td>\n",
       "      <td>snow_conditions</td>\n",
       "      <td>113.000000</td>\n",
       "    </tr>\n",
       "    <tr>\n",
       "      <th>2</th>\n",
       "      <td>Aidan Goldie</td>\n",
       "      <td>5e3c70aa92134473d703e9d7</td>\n",
       "      <td>1581019217555</td>\n",
       "      <td>2020-02-06 12:00:17.555</td>\n",
       "      <td>39.642799</td>\n",
       "      <td>-106.518115</td>\n",
       "      <td>snow_conditions</td>\n",
       "      <td>35.000000</td>\n",
       "    </tr>\n",
       "    <tr>\n",
       "      <th>3</th>\n",
       "      <td>Kate</td>\n",
       "      <td>5e3c88c592134473d7040ec7</td>\n",
       "      <td>1581014199662</td>\n",
       "      <td>2020-02-06 10:36:39.662</td>\n",
       "      <td>5.404931</td>\n",
       "      <td>-13.332444</td>\n",
       "      <td>snow_conditions</td>\n",
       "      <td>63.000000</td>\n",
       "    </tr>\n",
       "    <tr>\n",
       "      <th>4</th>\n",
       "      <td>Karsten von Hoesslin</td>\n",
       "      <td>5e3c8b132646bf6f0a9881a6</td>\n",
       "      <td>1580942521005</td>\n",
       "      <td>2020-02-05 14:42:01.005</td>\n",
       "      <td>50.368768</td>\n",
       "      <td>-119.064283</td>\n",
       "      <td>snow_conditions</td>\n",
       "      <td>210.000000</td>\n",
       "    </tr>\n",
       "    <tr>\n",
       "      <th>5</th>\n",
       "      <td>Bob Sutherland</td>\n",
       "      <td>5e3b2a091981f869f67902e5</td>\n",
       "      <td>1580930578015</td>\n",
       "      <td>2020-02-05 11:22:58.015</td>\n",
       "      <td>48.604521</td>\n",
       "      <td>-120.371946</td>\n",
       "      <td>snow_conditions</td>\n",
       "      <td>60.999998</td>\n",
       "    </tr>\n",
       "    <tr>\n",
       "      <th>6</th>\n",
       "      <td>Bob Sutherland</td>\n",
       "      <td>5e39e3bffaf5054e53922be9</td>\n",
       "      <td>1580852139907</td>\n",
       "      <td>2020-02-04 13:35:39.907</td>\n",
       "      <td>48.603228</td>\n",
       "      <td>-120.272607</td>\n",
       "      <td>snow_conditions</td>\n",
       "      <td>74.999997</td>\n",
       "    </tr>\n",
       "    <tr>\n",
       "      <th>7</th>\n",
       "      <td>Joseph Sirois</td>\n",
       "      <td>5e3c4c0f2646bf6f0a97fa07</td>\n",
       "      <td>1580848033830</td>\n",
       "      <td>2020-02-04 12:27:13.830</td>\n",
       "      <td>44.257764</td>\n",
       "      <td>-71.254156</td>\n",
       "      <td>snow_conditions</td>\n",
       "      <td>30.000000</td>\n",
       "    </tr>\n",
       "    <tr>\n",
       "      <th>8</th>\n",
       "      <td>Joseph Sirois</td>\n",
       "      <td>5e3c4c1292134473d70370c9</td>\n",
       "      <td>1580847897187</td>\n",
       "      <td>2020-02-04 12:24:57.187</td>\n",
       "      <td>44.257776</td>\n",
       "      <td>-71.254776</td>\n",
       "      <td>snow_conditions</td>\n",
       "      <td>34.000000</td>\n",
       "    </tr>\n",
       "    <tr>\n",
       "      <th>9</th>\n",
       "      <td>Joseph Sirois</td>\n",
       "      <td>5e3c4bcd6dbf9611197dfc75</td>\n",
       "      <td>1580847428118</td>\n",
       "      <td>2020-02-04 12:17:08.118</td>\n",
       "      <td>44.258471</td>\n",
       "      <td>-71.254005</td>\n",
       "      <td>snow_conditions</td>\n",
       "      <td>36.000000</td>\n",
       "    </tr>\n",
       "  </tbody>\n",
       "</table>\n",
       "</div>"
      ],
      "text/plain": [
       "            author_name                        id      timestamp  \\\n",
       "0  Karsten von Hoesslin  5e3c8cda2646bf6f0a9887ab  1581026436629   \n",
       "1        Nikki Horrocks  5e3c834f92134473d7040b6b  1581023991366   \n",
       "2          Aidan Goldie  5e3c70aa92134473d703e9d7  1581019217555   \n",
       "3                  Kate  5e3c88c592134473d7040ec7  1581014199662   \n",
       "4  Karsten von Hoesslin  5e3c8b132646bf6f0a9881a6  1580942521005   \n",
       "5        Bob Sutherland  5e3b2a091981f869f67902e5  1580930578015   \n",
       "6        Bob Sutherland  5e39e3bffaf5054e53922be9  1580852139907   \n",
       "7         Joseph Sirois  5e3c4c0f2646bf6f0a97fa07  1580848033830   \n",
       "8         Joseph Sirois  5e3c4c1292134473d70370c9  1580847897187   \n",
       "9         Joseph Sirois  5e3c4bcd6dbf9611197dfc75  1580847428118   \n",
       "\n",
       "                     date        lat        long             type  snow_depth  \n",
       "0 2020-02-06 14:00:36.629  50.398795 -119.055334  snow_conditions  135.000000  \n",
       "1 2020-02-06 13:19:51.366  37.483015 -106.796646  snow_conditions  113.000000  \n",
       "2 2020-02-06 12:00:17.555  39.642799 -106.518115  snow_conditions   35.000000  \n",
       "3 2020-02-06 10:36:39.662   5.404931  -13.332444  snow_conditions   63.000000  \n",
       "4 2020-02-05 14:42:01.005  50.368768 -119.064283  snow_conditions  210.000000  \n",
       "5 2020-02-05 11:22:58.015  48.604521 -120.371946  snow_conditions   60.999998  \n",
       "6 2020-02-04 13:35:39.907  48.603228 -120.272607  snow_conditions   74.999997  \n",
       "7 2020-02-04 12:27:13.830  44.257764  -71.254156  snow_conditions   30.000000  \n",
       "8 2020-02-04 12:24:57.187  44.257776  -71.254776  snow_conditions   34.000000  \n",
       "9 2020-02-04 12:17:08.118  44.258471  -71.254005  snow_conditions   36.000000  "
      ]
     },
     "metadata": {},
     "output_type": "display_data"
    }
   ],
   "source": [
    "# Basic usage\n",
    "obs = MountainHub.snow_data(limit=10)\n",
    "obs"
   ]
  },
  {
   "cell_type": "code",
   "execution_count": 9,
   "metadata": {},
   "outputs": [
    {
     "data": {
      "text/plain": [
       "\u001b[0;31mSignature:\u001b[0m\n",
       "\u001b[0mMountainHub\u001b[0m\u001b[0;34m.\u001b[0m\u001b[0msnow_data\u001b[0m\u001b[0;34m(\u001b[0m\u001b[0;34m\u001b[0m\n",
       "\u001b[0;34m\u001b[0m    \u001b[0mpublisher\u001b[0m\u001b[0;34m=\u001b[0m\u001b[0;34m'all'\u001b[0m\u001b[0;34m,\u001b[0m\u001b[0;34m\u001b[0m\n",
       "\u001b[0;34m\u001b[0m    \u001b[0mobs_type\u001b[0m\u001b[0;34m=\u001b[0m\u001b[0;34m'snow_conditions'\u001b[0m\u001b[0;34m,\u001b[0m\u001b[0;34m\u001b[0m\n",
       "\u001b[0;34m\u001b[0m    \u001b[0mlimit\u001b[0m\u001b[0;34m=\u001b[0m\u001b[0;36m100\u001b[0m\u001b[0;34m,\u001b[0m\u001b[0;34m\u001b[0m\n",
       "\u001b[0;34m\u001b[0m    \u001b[0mstart\u001b[0m\u001b[0;34m=\u001b[0m\u001b[0;32mNone\u001b[0m\u001b[0;34m,\u001b[0m\u001b[0;34m\u001b[0m\n",
       "\u001b[0;34m\u001b[0m    \u001b[0mend\u001b[0m\u001b[0;34m=\u001b[0m\u001b[0;32mNone\u001b[0m\u001b[0;34m,\u001b[0m\u001b[0;34m\u001b[0m\n",
       "\u001b[0;34m\u001b[0m    \u001b[0mbox\u001b[0m\u001b[0;34m=\u001b[0m\u001b[0;32mNone\u001b[0m\u001b[0;34m,\u001b[0m\u001b[0;34m\u001b[0m\n",
       "\u001b[0;34m\u001b[0m    \u001b[0mfilter\u001b[0m\u001b[0;34m=\u001b[0m\u001b[0;32mTrue\u001b[0m\u001b[0;34m,\u001b[0m\u001b[0;34m\u001b[0m\n",
       "\u001b[0;34m\u001b[0m\u001b[0;34m)\u001b[0m\u001b[0;34m\u001b[0m\u001b[0;34m\u001b[0m\u001b[0m\n",
       "\u001b[0;31mDocstring:\u001b[0m\n",
       "Retrieves snow data from MountainHub API.\n",
       "\n",
       "Keyword arguments:\n",
       "publisher --\n",
       "obs_type --\n",
       "limit -- Maximum number of records to return (default 100)\n",
       "start -- Start date to return results from\n",
       "end -- End date to return results from\n",
       "box -- Bounding box to restrict results,\n",
       "filter -- Flag indicating whether entries with no snow depth data should be filtered out\n",
       "\u001b[0;31mFile:\u001b[0m      /usr/mayorgadat/workmain/aarendt/CSO/gh_org/validation/validation/MountainHub.py\n",
       "\u001b[0;31mType:\u001b[0m      function\n"
      ]
     },
     "metadata": {},
     "output_type": "display_data"
    }
   ],
   "source": [
    "MountainHub.snow_data?"
   ]
  },
  {
   "cell_type": "code",
   "execution_count": 28,
   "metadata": {},
   "outputs": [],
   "source": [
    "# obs2 = MountainHub.snow_data(obs_type='snow_conditions,snowpack_test', \n",
    "obs2 = MountainHub.snow_data(obs_type='snow_conditions', \n",
    "                             limit=500, start=datetime(2020,1,10), end=datetime(2020,1,20))"
   ]
  },
  {
   "cell_type": "code",
   "execution_count": 29,
   "metadata": {},
   "outputs": [
    {
     "data": {
      "text/plain": [
       "65"
      ]
     },
     "execution_count": 29,
     "metadata": {},
     "output_type": "execute_result"
    }
   ],
   "source": [
    "len(obs2)"
   ]
  },
  {
   "cell_type": "code",
   "execution_count": 30,
   "metadata": {},
   "outputs": [
    {
     "data": {
      "text/html": [
       "<div>\n",
       "<style scoped>\n",
       "    .dataframe tbody tr th:only-of-type {\n",
       "        vertical-align: middle;\n",
       "    }\n",
       "\n",
       "    .dataframe tbody tr th {\n",
       "        vertical-align: top;\n",
       "    }\n",
       "\n",
       "    .dataframe thead th {\n",
       "        text-align: right;\n",
       "    }\n",
       "</style>\n",
       "<table border=\"1\" class=\"dataframe\">\n",
       "  <thead>\n",
       "    <tr style=\"text-align: right;\">\n",
       "      <th></th>\n",
       "      <th>author_name</th>\n",
       "      <th>id</th>\n",
       "      <th>timestamp</th>\n",
       "      <th>date</th>\n",
       "      <th>lat</th>\n",
       "      <th>long</th>\n",
       "      <th>type</th>\n",
       "      <th>snow_depth</th>\n",
       "    </tr>\n",
       "  </thead>\n",
       "  <tbody>\n",
       "    <tr>\n",
       "      <th>0</th>\n",
       "      <td>Annalise decker</td>\n",
       "      <td>5e24eb991a335767a8fe5441</td>\n",
       "      <td>1579472430680</td>\n",
       "      <td>2020-01-19 14:20:30.680</td>\n",
       "      <td>37.766288</td>\n",
       "      <td>-119.777359</td>\n",
       "      <td>snow_conditions</td>\n",
       "      <td>75.000000</td>\n",
       "    </tr>\n",
       "    <tr>\n",
       "      <th>1</th>\n",
       "      <td>Mikey Johnson</td>\n",
       "      <td>5e24bd3c27fc5939ff389f60</td>\n",
       "      <td>1579465962600</td>\n",
       "      <td>2020-01-19 12:32:42.600</td>\n",
       "      <td>39.294956</td>\n",
       "      <td>-119.925711</td>\n",
       "      <td>snow_conditions</td>\n",
       "      <td>110.000000</td>\n",
       "    </tr>\n",
       "    <tr>\n",
       "      <th>2</th>\n",
       "      <td>Ben Clark</td>\n",
       "      <td>5e24da9e1a335767a8fe3f3a</td>\n",
       "      <td>1579465101647</td>\n",
       "      <td>2020-01-19 12:18:21.647</td>\n",
       "      <td>57.080782</td>\n",
       "      <td>-135.311660</td>\n",
       "      <td>snow_conditions</td>\n",
       "      <td>95.000000</td>\n",
       "    </tr>\n",
       "    <tr>\n",
       "      <th>3</th>\n",
       "      <td>Nina Aragon</td>\n",
       "      <td>5e28e43453c44435fa187cd2</td>\n",
       "      <td>1579463675509</td>\n",
       "      <td>2020-01-19 11:54:35.509</td>\n",
       "      <td>43.946934</td>\n",
       "      <td>-121.661477</td>\n",
       "      <td>snow_conditions</td>\n",
       "      <td>116.000000</td>\n",
       "    </tr>\n",
       "    <tr>\n",
       "      <th>4</th>\n",
       "      <td>Benjamin Hatchett</td>\n",
       "      <td>5e2f914bf1293c5358e3bd2f</td>\n",
       "      <td>1579454850686</td>\n",
       "      <td>2020-01-19 09:27:30.686</td>\n",
       "      <td>39.199390</td>\n",
       "      <td>-120.242294</td>\n",
       "      <td>snow_conditions</td>\n",
       "      <td>52.000000</td>\n",
       "    </tr>\n",
       "    <tr>\n",
       "      <th>5</th>\n",
       "      <td>Elizabeth Kimberly</td>\n",
       "      <td>5e238dd85511bc4a2bf650c7</td>\n",
       "      <td>1579388300678</td>\n",
       "      <td>2020-01-18 14:58:20.678</td>\n",
       "      <td>48.866192</td>\n",
       "      <td>-121.680288</td>\n",
       "      <td>snow_conditions</td>\n",
       "      <td>310.000000</td>\n",
       "    </tr>\n",
       "    <tr>\n",
       "      <th>6</th>\n",
       "      <td>Danny Martin</td>\n",
       "      <td>5e2388a3a32f3578a00bd2d7</td>\n",
       "      <td>1579387024878</td>\n",
       "      <td>2020-01-18 14:37:04.878</td>\n",
       "      <td>43.589098</td>\n",
       "      <td>-110.732537</td>\n",
       "      <td>snow_conditions</td>\n",
       "      <td>68.999997</td>\n",
       "    </tr>\n",
       "    <tr>\n",
       "      <th>7</th>\n",
       "      <td>Julie Carpenter</td>\n",
       "      <td>5e2645437dfd902d54ee67e9</td>\n",
       "      <td>1579385432101</td>\n",
       "      <td>2020-01-18 14:10:32.101</td>\n",
       "      <td>63.864960</td>\n",
       "      <td>-149.738793</td>\n",
       "      <td>snow_conditions</td>\n",
       "      <td>35.000000</td>\n",
       "    </tr>\n",
       "    <tr>\n",
       "      <th>9</th>\n",
       "      <td>Karsten von Hoesslin</td>\n",
       "      <td>5e2370f3a32f3578a00b8da2</td>\n",
       "      <td>1579380959019</td>\n",
       "      <td>2020-01-18 12:55:59.019</td>\n",
       "      <td>50.398735</td>\n",
       "      <td>-119.055178</td>\n",
       "      <td>snow_conditions</td>\n",
       "      <td>115.000000</td>\n",
       "    </tr>\n",
       "    <tr>\n",
       "      <th>10</th>\n",
       "      <td>Benjamin Hatchett</td>\n",
       "      <td>5e23ce1227fc5939ff365e73</td>\n",
       "      <td>1579369394755</td>\n",
       "      <td>2020-01-18 09:43:14.755</td>\n",
       "      <td>38.934233</td>\n",
       "      <td>-120.073469</td>\n",
       "      <td>snow_conditions</td>\n",
       "      <td>50.000000</td>\n",
       "    </tr>\n",
       "  </tbody>\n",
       "</table>\n",
       "</div>"
      ],
      "text/plain": [
       "             author_name                        id      timestamp  \\\n",
       "0        Annalise decker  5e24eb991a335767a8fe5441  1579472430680   \n",
       "1          Mikey Johnson  5e24bd3c27fc5939ff389f60  1579465962600   \n",
       "2              Ben Clark  5e24da9e1a335767a8fe3f3a  1579465101647   \n",
       "3            Nina Aragon  5e28e43453c44435fa187cd2  1579463675509   \n",
       "4      Benjamin Hatchett  5e2f914bf1293c5358e3bd2f  1579454850686   \n",
       "5     Elizabeth Kimberly  5e238dd85511bc4a2bf650c7  1579388300678   \n",
       "6           Danny Martin  5e2388a3a32f3578a00bd2d7  1579387024878   \n",
       "7        Julie Carpenter  5e2645437dfd902d54ee67e9  1579385432101   \n",
       "9   Karsten von Hoesslin  5e2370f3a32f3578a00b8da2  1579380959019   \n",
       "10     Benjamin Hatchett  5e23ce1227fc5939ff365e73  1579369394755   \n",
       "\n",
       "                      date        lat        long             type  snow_depth  \n",
       "0  2020-01-19 14:20:30.680  37.766288 -119.777359  snow_conditions   75.000000  \n",
       "1  2020-01-19 12:32:42.600  39.294956 -119.925711  snow_conditions  110.000000  \n",
       "2  2020-01-19 12:18:21.647  57.080782 -135.311660  snow_conditions   95.000000  \n",
       "3  2020-01-19 11:54:35.509  43.946934 -121.661477  snow_conditions  116.000000  \n",
       "4  2020-01-19 09:27:30.686  39.199390 -120.242294  snow_conditions   52.000000  \n",
       "5  2020-01-18 14:58:20.678  48.866192 -121.680288  snow_conditions  310.000000  \n",
       "6  2020-01-18 14:37:04.878  43.589098 -110.732537  snow_conditions   68.999997  \n",
       "7  2020-01-18 14:10:32.101  63.864960 -149.738793  snow_conditions   35.000000  \n",
       "9  2020-01-18 12:55:59.019  50.398735 -119.055178  snow_conditions  115.000000  \n",
       "10 2020-01-18 09:43:14.755  38.934233 -120.073469  snow_conditions   50.000000  "
      ]
     },
     "execution_count": 30,
     "metadata": {},
     "output_type": "execute_result"
    }
   ],
   "source": [
    "obs2.head(10)"
   ]
  },
  {
   "cell_type": "code",
   "execution_count": 31,
   "metadata": {},
   "outputs": [
    {
     "data": {
      "text/plain": [
       "Karsten von Hoesslin    7\n",
       "JD                      5\n",
       "Erin Mckittrick         5\n",
       "DKS                     3\n",
       "Andrew Morphis          3\n",
       "Bob Sutherland          3\n",
       "Nicholas Lowing         3\n",
       "Elizabeth Kimberly      3\n",
       "Ryan Crumley            3\n",
       "Mikey Johnson           2\n",
       "Julie Carpenter         2\n",
       "John Serkowski          2\n",
       "David Hill              2\n",
       "Benjamin Hatchett       2\n",
       "Max sawyer              2\n",
       "Colin R. Meyer          1\n",
       "Patrick St.Onge         1\n",
       "Mike Dawson             1\n",
       "Nina Aragon             1\n",
       "Aaron Hartz             1\n",
       "Ben Clark               1\n",
       "Brint Markle            1\n",
       "Angie Fuhrmann          1\n",
       "Annalise decker         1\n",
       "Genevieve               1\n",
       "Gabriel Wolken          1\n",
       "Taylor Pfaff            1\n",
       "Danny Martin            1\n",
       "NB                      1\n",
       "Joseph Kurtak           1\n",
       "Yasmine Hentati         1\n",
       "Bart Wills              1\n",
       "Connor Way              1\n",
       "Name: author_name, dtype: int64"
      ]
     },
     "execution_count": 31,
     "metadata": {},
     "output_type": "execute_result"
    }
   ],
   "source": [
    "obs2.author_name.value_counts()"
   ]
  },
  {
   "cell_type": "code",
   "execution_count": 32,
   "metadata": {},
   "outputs": [
    {
     "data": {
      "text/html": [
       "<div>\n",
       "<style scoped>\n",
       "    .dataframe tbody tr th:only-of-type {\n",
       "        vertical-align: middle;\n",
       "    }\n",
       "\n",
       "    .dataframe tbody tr th {\n",
       "        vertical-align: top;\n",
       "    }\n",
       "\n",
       "    .dataframe thead th {\n",
       "        text-align: right;\n",
       "    }\n",
       "</style>\n",
       "<table border=\"1\" class=\"dataframe\">\n",
       "  <thead>\n",
       "    <tr style=\"text-align: right;\">\n",
       "      <th></th>\n",
       "      <th>author_name</th>\n",
       "      <th>id</th>\n",
       "      <th>timestamp</th>\n",
       "      <th>date</th>\n",
       "      <th>lat</th>\n",
       "      <th>long</th>\n",
       "      <th>type</th>\n",
       "      <th>snow_depth</th>\n",
       "    </tr>\n",
       "  </thead>\n",
       "  <tbody>\n",
       "    <tr>\n",
       "      <th>29</th>\n",
       "      <td>David Hill</td>\n",
       "      <td>5e1f643c4fdb45291ad8e475</td>\n",
       "      <td>1579115548348</td>\n",
       "      <td>2020-01-15 11:12:28.348</td>\n",
       "      <td>44.401894</td>\n",
       "      <td>-121.882523</td>\n",
       "      <td>snow_conditions</td>\n",
       "      <td>165.10</td>\n",
       "    </tr>\n",
       "    <tr>\n",
       "      <th>33</th>\n",
       "      <td>David Hill</td>\n",
       "      <td>5e1e83224fdb45291ad73d0f</td>\n",
       "      <td>1579057938302</td>\n",
       "      <td>2020-01-14 19:12:18.302</td>\n",
       "      <td>44.631752</td>\n",
       "      <td>-123.349048</td>\n",
       "      <td>snow_conditions</td>\n",
       "      <td>20.32</td>\n",
       "    </tr>\n",
       "  </tbody>\n",
       "</table>\n",
       "</div>"
      ],
      "text/plain": [
       "   author_name                        id      timestamp  \\\n",
       "29  David Hill  5e1f643c4fdb45291ad8e475  1579115548348   \n",
       "33  David Hill  5e1e83224fdb45291ad73d0f  1579057938302   \n",
       "\n",
       "                      date        lat        long             type  snow_depth  \n",
       "29 2020-01-15 11:12:28.348  44.401894 -121.882523  snow_conditions      165.10  \n",
       "33 2020-01-14 19:12:18.302  44.631752 -123.349048  snow_conditions       20.32  "
      ]
     },
     "execution_count": 32,
     "metadata": {},
     "output_type": "execute_result"
    }
   ],
   "source": [
    "obs2[obs2.author_name == 'David Hill']"
   ]
  },
  {
   "cell_type": "markdown",
   "metadata": {},
   "source": [
    "## Usage with additional parameters\n",
    "Usage of additional parameters is demonstrated below. The box paramter takes a dictionary with structure displayed below. "
   ]
  },
  {
   "cell_type": "markdown",
   "metadata": {},
   "source": [
    "# Search Area\n",
    "region = {\n",
    "    'ymax' : 45,\n",
    "    'ymin' : 44,\n",
    "    'xmax': -121,\n",
    "    'xmin': -122,\n",
    "}\n",
    "\n",
    "obs = MountainHub.snow_data(limit=10, start=datetime(2017,8,1), end=datetime(2018,10,1), box=region)\n",
    "display(obs)"
   ]
  },
  {
   "cell_type": "code",
   "execution_count": 13,
   "metadata": {},
   "outputs": [
    {
     "data": {
      "text/plain": [
       "<matplotlib.axes._subplots.AxesSubplot at 0x11a8eeba8>"
      ]
     },
     "execution_count": 13,
     "metadata": {},
     "output_type": "execute_result"
    },
    {
     "data": {
      "image/png": "[encoded data removed]",
      "text/plain": [
       "<matplotlib.figure.Figure at 0x11a8fe710>"
      ]
     },
     "metadata": {},
     "output_type": "display_data"
    }
   ],
   "source": [
    "plt = obs.plot(x='date', y='snow_depth')\n",
    "obs.plot(x='date', y='elevation', style='o', ax=plt)"
   ]
  },
  {
   "cell_type": "code",
   "execution_count": null,
   "metadata": {
    "collapsed": true,
    "jupyter": {
     "outputs_hidden": true
    }
   },
   "outputs": [],
   "source": []
  }
 ],
 "metadata": {
  "kernelspec": {
   "display_name": "Python [conda env:mountainhubapi]",
   "language": "python",
   "name": "conda-env-mountainhubapi-py"
  },
  "language_info": {
   "codemirror_mode": {
    "name": "ipython",
    "version": 3
   },
   "file_extension": ".py",
   "mimetype": "text/x-python",
   "name": "python",
   "nbconvert_exporter": "python",
   "pygments_lexer": "ipython3",
   "version": "3.7.6"
  },
  "pycharm": {
   "stem_cell": {
    "cell_type": "raw",
    "source": [],
    "metadata": {
     "collapsed": false
    }
   }
  }
 },
 "nbformat": 4,
 "nbformat_minor": 4
}